{
 "cells": [
  {
   "cell_type": "markdown",
   "metadata": {},
   "source": [
    "# 训练一个分类器"
   ]
  },
  {
   "cell_type": "markdown",
   "metadata": {},
   "source": [
    "### 对于输入的数据\n",
    "    一般来说, 当你不得不处理图像, 文本, 音频或者视频数据时, 你可以使用标准的 Python 包将数据加载到一个 numpy 数组中. 然后你可以将这个数组转换成一个 torch.*Tensor.\n",
    "-    对于图像, 会用到的包有 Pillow, OpenCV .\n",
    "-    对于音频, 会用的包有 scipy 和 librosa.\n",
    "-    对于文本, 原始 Python 或基于 Cython 的加载, 或者 NLTK 和 Spacy 都是有用的.\n"
   ]
  },
  {
   "cell_type": "markdown",
   "metadata": {},
   "source": [
    "### 训练一个图像分类器\n",
    "1. 加载 CIFAR10 测试和训练数据集并规范化 torchvision\n",
    "2. 定义一个卷积神经网络\n",
    "3. 定义一个损失函数\n",
    "4. 在训练数据上训练网络\n",
    "5. 在测试数据上测试网络"
   ]
  },
  {
   "cell_type": "markdown",
   "metadata": {},
   "source": [
    "### 1. 加载并规范化 CIFAR10"
   ]
  },
  {
   "cell_type": "code",
   "execution_count": 1,
   "metadata": {},
   "outputs": [],
   "source": [
    "import torch\n",
    "import torchvision\n",
    "import torchvision.transforms as transforms"
   ]
  },
  {
   "cell_type": "code",
   "execution_count": 2,
   "metadata": {},
   "outputs": [
    {
     "name": "stdout",
     "output_type": "stream",
     "text": [
      "Files already downloaded and verified\n",
      "Files already downloaded and verified\n"
     ]
    }
   ],
   "source": [
    "transform=transforms.Compose([transforms.ToTensor(),transforms.Normalize((0.5,0.5,0.5),(0.5,0.5,0.5))])\n",
    "\n",
    "train_set=torchvision.datasets.CIFAR10(\n",
    "    root='./cifar10',\n",
    "    train=True,\n",
    "    download=True,\n",
    "    transform=transform\n",
    ")\n",
    "trainloader=torch.utils.data.DataLoader(\n",
    "    train_set,\n",
    "    batch_size=4,\n",
    "    shuffle=True,\n",
    "    num_workers=2\n",
    ")\n",
    "test_set=torchvision.datasets.CIFAR10(\n",
    "    root='./cifar10',\n",
    "    train=False,\n",
    "    download=True,\n",
    "    transform=transform\n",
    ")\n",
    "testloader = torch.utils.data.DataLoader(\n",
    "    test_set,\n",
    "    batch_size=4,\n",
    "    shuffle=False,\n",
    "    num_workers=2\n",
    ")\n",
    "classes = ('plane', 'car', 'bird', 'cat',\n",
    "           'deer', 'dog', 'frog', 'horse', 'ship', 'truck')"
   ]
  },
  {
   "cell_type": "code",
   "execution_count": 3,
   "metadata": {},
   "outputs": [],
   "source": [
    "# 进行一些数据的展示\n",
    "import matplotlib.pyplot as plt\n",
    "import numpy as np"
   ]
  },
  {
   "cell_type": "code",
   "execution_count": 4,
   "metadata": {},
   "outputs": [
    {
     "name": "stdout",
     "output_type": "stream",
     "text": [
      " ship plane truck   car\n"
     ]
    },
    {
     "data": {
      "image/png": "[encoded data removed]",
      "text/plain": [
       "<Figure size 432x288 with 1 Axes>"
      ]
     },
     "metadata": {},
     "output_type": "display_data"
    }
   ],
   "source": [
    "# 定义函数来显示图像\n",
    "\n",
    "\n",
    "def imshow(img):\n",
    "    img = img / 2 + 0.5     # 非标准化\n",
    "    npimg = img.numpy()\n",
    "    plt.imshow(np.transpose(npimg, (1, 2, 0)))\n",
    "\n",
    "\n",
    "# 得到一些随机的训练图像\n",
    "dataiter = iter(trainloader)\n",
    "images, labels = dataiter.next()\n",
    "\n",
    "# 显示图像\n",
    "imshow(torchvision.utils.make_grid(images))\n",
    "# 输出类别\n",
    "print(' '.join('%5s' % classes[labels[j]] for j in range(4)))"
   ]
  },
  {
   "cell_type": "markdown",
   "metadata": {},
   "source": [
    "### 2. 定义一个卷积神经网络"
   ]
  },
  {
   "cell_type": "code",
   "execution_count": 5,
   "metadata": {},
   "outputs": [],
   "source": [
    "from torch.autograd import Variable\n",
    "import torch.nn as nn\n",
    "import torch.nn.functional as F"
   ]
  },
  {
   "cell_type": "code",
   "execution_count": 6,
   "metadata": {},
   "outputs": [],
   "source": [
    "class Net(nn.Module):\n",
    "    def __init__(self):\n",
    "        super(Net,self).__init__()  #  >>>>>>>>>3X32X32\n",
    "        self.conv1=nn.Conv2d(3,6,5)  # 输入的通道数是3,输出的通道数是6,卷积核大小为5*5;>>>>>6X28X28\n",
    "        self.pool=nn.MaxPool2d(2,2)  # 池化层的核是2X2的,步长也为2 >>>>>>6X14X14\n",
    "        self.conv2=nn.Conv2d(6,16,5)  # >>>>>>>16X10X10\n",
    "        self.fc1=nn.Linear(16*5*5,120)\n",
    "        self.fc2=nn.Linear(120,84)\n",
    "        self.fc3=nn.Linear(84,10)\n",
    "    \n",
    "    def forward(self,x):  #  >>>>>>>>>3X32X32\n",
    "        x=self.pool(F.relu(self.conv1(x)))  # >>>>>>>>>6X14X14\n",
    "        x=self.pool(F.relu(self.conv2(x)))  # >>>>>>>>>16X5X5\n",
    "        x=x.view(-1,16*5*5)\n",
    "        x=F.relu(self.fc1(x))\n",
    "        x=F.relu(self.fc2(x))\n",
    "        x=self.fc3(x)\n",
    "        return x\n",
    "\n",
    "net=Net()"
   ]
  },
  {
   "cell_type": "code",
   "execution_count": 7,
   "metadata": {},
   "outputs": [
    {
     "data": {
      "text/plain": [
       "Net(\n",
       "  (conv1): Conv2d (3, 6, kernel_size=(5, 5), stride=(1, 1))\n",
       "  (pool): MaxPool2d(kernel_size=(2, 2), stride=(2, 2), dilation=(1, 1))\n",
       "  (conv2): Conv2d (6, 16, kernel_size=(5, 5), stride=(1, 1))\n",
       "  (fc1): Linear(in_features=400, out_features=120)\n",
       "  (fc2): Linear(in_features=120, out_features=84)\n",
       "  (fc3): Linear(in_features=84, out_features=10)\n",
       ")"
      ]
     },
     "execution_count": 7,
     "metadata": {},
     "output_type": "execute_result"
    }
   ],
   "source": [
    "net"
   ]
  },
  {
   "cell_type": "markdown",
   "metadata": {},
   "source": [
    "### 3.定义损失函数和优化器\n",
    "- 这里使用了交叉熵损失函数和随机梯度下降优化器"
   ]
  },
  {
   "cell_type": "code",
   "execution_count": 8,
   "metadata": {},
   "outputs": [],
   "source": [
    "import torch.optim as optim\n",
    "\n",
    "criterion=nn.CrossEntropyLoss()\n",
    "optimizer=optim.SGD(net.parameters(),lr=0.001,momentum=0.9)"
   ]
  },
  {
   "cell_type": "markdown",
   "metadata": {},
   "source": [
    "### 4.训练网络"
   ]
  },
  {
   "cell_type": "code",
   "execution_count": 9,
   "metadata": {},
   "outputs": [
    {
     "name": "stdout",
     "output_type": "stream",
     "text": [
      "[1, 2000] loss: 2.173\n",
      "[1, 4000] loss: 1.872\n",
      "[1, 6000] loss: 1.689\n",
      "[1, 8000] loss: 1.611\n",
      "[1,10000] loss: 1.535\n",
      "[1,12000] loss: 1.468\n",
      "[2, 2000] loss: 1.402\n",
      "[2, 4000] loss: 1.367\n",
      "[2, 6000] loss: 1.336\n",
      "[2, 8000] loss: 1.321\n",
      "[2,10000] loss: 1.303\n",
      "[2,12000] loss: 1.296\n",
      "Finished Training\n",
      "Training time: 75.86148166656494\n"
     ]
    }
   ],
   "source": [
    "import time\n",
    "start_time=time.time()\n",
    "for epoch in range(2):\n",
    "    running_loss=0.0\n",
    "    for i,data in enumerate(trainloader,0):\n",
    "        # 得到输入数据\n",
    "        inputs,labels=data\n",
    "        # 包装数据\n",
    "        inputs,labels=Variable(inputs),Variable(labels)\n",
    "        # 梯度清零\n",
    "        optimizer.zero_grad()\n",
    "        \n",
    "        # forward+backward+optimize\n",
    "        outputs=net(inputs)\n",
    "        loss=criterion(outputs,labels)\n",
    "        loss.backward()\n",
    "        optimizer.step()\n",
    "        \n",
    "        # 打印消息\n",
    "        running_loss+=loss.data[0]\n",
    "        if i%2000 ==1999:\n",
    "            print('[%d,%5d] loss: %.3f'%(epoch+1,i+1,running_loss/2000))\n",
    "            running_loss=0.0\n",
    "    \n",
    "print('Finished Training')\n",
    "end_time=time.time()\n",
    "print('Training time:',end_time-start_time)"
   ]
  },
  {
   "cell_type": "markdown",
   "metadata": {},
   "source": [
    "### 5.在测试集上测试网络"
   ]
  },
  {
   "cell_type": "code",
   "execution_count": 10,
   "metadata": {},
   "outputs": [
    {
     "name": "stdout",
     "output_type": "stream",
     "text": [
      "GroundTruth:   cat  ship  ship plane\n"
     ]
    },
    {
     "data": {
      "image/png": "[encoded data removed]",
      "text/plain": [
       "<Figure size 432x288 with 1 Axes>"
      ]
     },
     "metadata": {},
     "output_type": "display_data"
    }
   ],
   "source": [
    "dataiter=iter(testloader)\n",
    "images,labels=dataiter.next()\n",
    "\n",
    "# 打印图像\n",
    "imshow(torchvision.utils.make_grid(images))\n",
    "print('GroundTruth:',' '.join('%5s'%classes[labels[j]] for j in range(4)))"
   ]
  },
  {
   "cell_type": "code",
   "execution_count": 11,
   "metadata": {},
   "outputs": [],
   "source": [
    "outputs=net(Variable(images))"
   ]
  },
  {
   "cell_type": "code",
   "execution_count": 12,
   "metadata": {},
   "outputs": [
    {
     "data": {
      "text/plain": [
       "Variable containing:\n",
       "-0.8067 -2.1248  1.3790  2.6742 -0.5098  1.9358  0.1349  0.4763 -1.2958 -1.3154\n",
       " 4.5784  5.2780 -1.8617 -3.7609 -2.0521 -4.8995 -4.0237 -2.7827  5.5870  5.2058\n",
       " 3.5960  2.9723 -0.7472 -2.2956 -1.2170 -3.8536 -2.8810 -2.0604  4.4359  1.9432\n",
       " 3.4736  0.8851 -0.2017 -1.3305 -0.5753 -3.4730 -2.7957 -2.3136  5.1021  0.8231\n",
       "[torch.FloatTensor of size 4x10]"
      ]
     },
     "execution_count": 12,
     "metadata": {},
     "output_type": "execute_result"
    }
   ],
   "source": [
    "outputs"
   ]
  },
  {
   "cell_type": "code",
   "execution_count": 13,
   "metadata": {},
   "outputs": [
    {
     "name": "stdout",
     "output_type": "stream",
     "text": [
      "\n",
      " 2.6742\n",
      " 5.5870\n",
      " 4.4359\n",
      " 5.1021\n",
      "[torch.FloatTensor of size 4]\n",
      "\n",
      "---------------\n",
      "\n",
      " 3\n",
      " 8\n",
      " 8\n",
      " 8\n",
      "[torch.LongTensor of size 4]\n",
      "\n",
      "Predicted:   cat  ship  ship  ship\n"
     ]
    }
   ],
   "source": [
    "_,predicted=torch.max(outputs.data,1)  # 该函数得到张量在给定维度dim上的最大值,1为在每一行的最大值,0为在每一列的,\n",
    "                                       # 返回该张量最大值及该值的位置索引\n",
    "print(_) # 最大值\n",
    "print('---------------') \n",
    "print(predicted)  # 最大值位置索引\n",
    "print('Predicted:',' '.join('%5s'% classes[predicted[j]] for j in range(4)))  # 结果集的每一列代表一张图片在10个输出\n",
    "                                                                              # 结果中的相似度,最大值代表最像某类图片,\n",
    "                                                                              # 取出其索引去对应每个分类"
   ]
  },
  {
   "cell_type": "code",
   "execution_count": 14,
   "metadata": {},
   "outputs": [
    {
     "name": "stdout",
     "output_type": "stream",
     "text": [
      "Accuracy of the network on the 10000 test images:55 %\n"
     ]
    }
   ],
   "source": [
    "# 在整个测试集上的效果\n",
    "correct=0\n",
    "total=0\n",
    "for data in testloader:\n",
    "    images,labels=data  # 每次遍历得到的是数据集批训练个数的集合\n",
    "    outputs=net(Variable(images))\n",
    "    _,predicted=torch.max(outputs.data,1)\n",
    "    total+=labels.size(0)\n",
    "    correct+=(predicted==labels).sum()\n",
    "print('Accuracy of the network on the 10000 test images:%d %%'%(100*correct/total))"
   ]
  }
 ],
 "metadata": {
  "kernelspec": {
   "display_name": "Python 3",
   "language": "python",
   "name": "python3"
  },
  "language_info": {
   "codemirror_mode": {
    "name": "ipython",
    "version": 3
   },
   "file_extension": ".py",
   "mimetype": "text/x-python",
   "name": "python",
   "nbconvert_exporter": "python",
   "pygments_lexer": "ipython3",
   "version": "3.5.4rc1"
  }
 },
 "nbformat": 4,
 "nbformat_minor": 2
}
