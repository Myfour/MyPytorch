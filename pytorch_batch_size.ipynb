{
 "cells": [
  {
   "cell_type": "markdown",
   "metadata": {},
   "source": [
    "# 批训练"
   ]
  },
  {
   "cell_type": "code",
   "execution_count": 1,
   "metadata": {},
   "outputs": [
    {
     "name": "stdout",
     "output_type": "stream",
     "text": [
      "\n",
      "  1\n",
      "  2\n",
      "  3\n",
      "  4\n",
      "  5\n",
      "  6\n",
      "  7\n",
      "  8\n",
      "  9\n",
      " 10\n",
      "[torch.FloatTensor of size 10]\n",
      "\n",
      "\n",
      " 10\n",
      "  9\n",
      "  8\n",
      "  7\n",
      "  6\n",
      "  5\n",
      "  4\n",
      "  3\n",
      "  2\n",
      "  1\n",
      "[torch.FloatTensor of size 10]\n",
      "\n"
     ]
    }
   ],
   "source": [
    "import torch\n",
    "import torch.utils.data as Data\n",
    "\n",
    "BATCH_SIZE=7\n",
    "\n",
    "x=torch.linspace(1,10,10)\n",
    "y=torch.linspace(10,1,10)\n",
    "print(x)\n",
    "print(y)"
   ]
  },
  {
   "cell_type": "code",
   "execution_count": 2,
   "metadata": {},
   "outputs": [
    {
     "name": "stdout",
     "output_type": "stream",
     "text": [
      "(0, [\n",
      " 1\n",
      " 3\n",
      " 6\n",
      " 5\n",
      " 8\n",
      " 4\n",
      " 9\n",
      "[torch.DoubleTensor of size 7]\n",
      ", \n",
      " 10\n",
      "  8\n",
      "  5\n",
      "  6\n",
      "  3\n",
      "  7\n",
      "  2\n",
      "[torch.DoubleTensor of size 7]\n",
      "])\n",
      "(1, [\n",
      "  7\n",
      "  2\n",
      " 10\n",
      "[torch.DoubleTensor of size 3]\n",
      ", \n",
      " 4\n",
      " 9\n",
      " 1\n",
      "[torch.DoubleTensor of size 3]\n",
      "])\n"
     ]
    }
   ],
   "source": [
    "torch_dataset=Data.TensorDataset(data_tensor=x,target_tensor=y)\n",
    "loader=Data.DataLoader(\n",
    "    dataset=torch_dataset,\n",
    "    batch_size=BATCH_SIZE,\n",
    "    shuffle=True,  # 是否打乱数据\n",
    "    num_workers=2  # 几条线程来读取\n",
    "    \n",
    ")\n",
    "for x in enumerate(loader):  # 每一步释放一小批数据来训练\n",
    "    print(x)"
   ]
  },
  {
   "cell_type": "code",
   "execution_count": 3,
   "metadata": {},
   "outputs": [
    {
     "name": "stdout",
     "output_type": "stream",
     "text": [
      "Epoch: 0 |Step: 0 |batch x: [ 8.  1.  7.  3. 10.  6.  4.] | batch y: [ 3. 10.  4.  8.  1.  5.  7.]\n",
      "Epoch: 0 |Step: 1 |batch x: [5. 2. 9.] | batch y: [6. 9. 2.]\n",
      "Epoch: 1 |Step: 0 |batch x: [ 3.  9.  4.  1.  2. 10.  7.] | batch y: [ 8.  2.  7. 10.  9.  1.  4.]\n",
      "Epoch: 1 |Step: 1 |batch x: [8. 6. 5.] | batch y: [3. 5. 6.]\n",
      "Epoch: 2 |Step: 0 |batch x: [ 2.  8.  7. 10.  4.  9.  1.] | batch y: [ 9.  3.  4.  1.  7.  2. 10.]\n",
      "Epoch: 2 |Step: 1 |batch x: [6. 5. 3.] | batch y: [5. 6. 8.]\n"
     ]
    }
   ],
   "source": [
    "for epoch in range(3):\n",
    "    for step,(batch_x,batch_y) in enumerate(loader):\n",
    "        print('Epoch:',epoch,'|Step:',step,'|batch x:',batch_x.numpy(),'| batch y:',batch_y.numpy())"
   ]
  }
 ],
 "metadata": {
  "kernelspec": {
   "display_name": "Python 3",
   "language": "python",
   "name": "python3"
  },
  "language_info": {
   "codemirror_mode": {
    "name": "ipython",
    "version": 3
   },
   "file_extension": ".py",
   "mimetype": "text/x-python",
   "name": "python",
   "nbconvert_exporter": "python",
   "pygments_lexer": "ipython3",
   "version": "3.5.4rc1"
  }
 },
 "nbformat": 4,
 "nbformat_minor": 2
}
