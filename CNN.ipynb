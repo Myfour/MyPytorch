{
 "cells": [
  {
   "cell_type": "markdown",
   "metadata": {},
   "source": [
    "# CNN"
   ]
  },
  {
   "cell_type": "code",
   "execution_count": 1,
   "metadata": {},
   "outputs": [],
   "source": [
    "import torch\n",
    "import torch.nn as nn\n",
    "from torch.autograd import Variable\n",
    "import torch.utils.data as Data  #  批训练所需\n",
    "import torchvision  # 手写数据库模块\n",
    "import matplotlib.pyplot as plt"
   ]
  },
  {
   "cell_type": "code",
   "execution_count": 2,
   "metadata": {},
   "outputs": [
    {
     "data": {
      "image/png": "[encoded data removed]",
      "text/plain": [
       "<Figure size 432x288 with 1 Axes>"
      ]
     },
     "metadata": {},
     "output_type": "display_data"
    }
   ],
   "source": [
    "# Hyper Parameters\n",
    "EPOCH=1  # 训练次数\n",
    "BATCH_SIZE=50  # 每批训练的个数\n",
    "LR=0.001  # 学习速率\n",
    "DOWNLOAD_MNIST=False  # 是否下载MNIST数据\n",
    "# 得到MNIST数据\n",
    "train_data=torchvision.datasets.MNIST(\n",
    "    root='./mnist',  # 下载到的文件夹\n",
    "    train=True,  # 获取的是否是训练集数据,若为False则是获取测试集数据\n",
    "    transform=torchvision.transforms.ToTensor(),  # 将下载的数据集转换为Tensor,其维度是[C,H,W]\n",
    "    download=DOWNLOAD_MNIST\n",
    ")\n",
    "# 获取测试用的MNIST数据\n",
    "test_data=torchvision.datasets.MNIST(root='./mnist/',train=False)\n",
    "\n",
    "test_x=Variable(torch.unsqueeze(test_data.test_data,dim=1),volatile=True).type(torch.FloatTensor)[:2000]/255\n",
    "test_y=test_data.test_labels[:2000]\n",
    "# plot the MNIST\n",
    "# print(train_data.train_data.size())\n",
    "# print(train_data.train_labels.size())\n",
    "# print(train_data.train_data[0])\n",
    "plt.imshow(train_data.train_data[0].numpy(),cmap='gray')\n",
    "plt.title('%i'%train_data.train_labels[0])\n",
    "plt.show()"
   ]
  },
  {
   "cell_type": "code",
   "execution_count": 3,
   "metadata": {},
   "outputs": [
    {
     "name": "stdout",
     "output_type": "stream",
     "text": [
      "<torchvision.datasets.mnist.MNIST object at 0x7f8fa0974ba8>\n",
      "<class 'torch.ByteTensor'>\n",
      "torch.Size([60000, 28, 28])\n",
      "\n",
      "\n",
      "Columns 0 to 12 \n",
      "    0     0     0     0     0     0     0     0     0     0     0     0     0\n",
      "    0     0     0     0     0     0     0     0     0     0     0     0     0\n",
      "    0     0     0     0     0     0     0     0     0     0     0     0     0\n",
      "    0     0     0     0     0     0     0     0     0     0     0     0     0\n",
      "    0     0     0     0     0     0     0     0     0     0     0     0     0\n",
      "    0     0     0     0     0     0     0     0     0     0     0     0     0\n",
      "    0     0     0     0     0     0     0     0     0     0     0     0     0\n",
      "    0     0     0     0     0     0     0     0     0     0     0     0     0\n",
      "    0     0     0     0     0     0     0     0     0     0     0     0     0\n",
      "    0     0     0     0     0     0     0     0     0     0     0     0     0\n",
      "    0     0     0     0     0     0     0     0     0     0     0     0     0\n",
      "    0     0     0     0     0     0     0     0     0     0     0     0     0\n",
      "    0     0     0     0     0     0     0     0     0     0     0     0     0\n",
      "    0     0     0     0     0     0     0     0     0     0     0     0     0\n",
      "    0     0     0     0     0     0     0     0     0     0     0     0    80\n",
      "    0     0     0     0     0     0     0     0     0     0     0    32   253\n",
      "    0     0     0     0     0     0     0     0     0     0     0   151   251\n",
      "    0     0     0     0     0     0     0     0     0     0    48   221   251\n",
      "    0     0     0     0     0     0     0     0     0     0   234   251   251\n",
      "    0     0     0     0     0     0     0     0     0     0   253   251   251\n",
      "    0     0     0     0     0     0     0     0     0   159   255   253   253\n",
      "    0     0     0     0     0     0     0     0    48   228   253   247   140\n",
      "    0     0     0     0     0     0     0     0    64   251   253   220     0\n",
      "    0     0     0     0     0     0     0     0    64   251   253   220     0\n",
      "    0     0     0     0     0     0     0     0    24   193   253   220     0\n",
      "    0     0     0     0     0     0     0     0     0     0     0     0     0\n",
      "    0     0     0     0     0     0     0     0     0     0     0     0     0\n",
      "    0     0     0     0     0     0     0     0     0     0     0     0     0\n",
      "\n",
      "Columns 13 to 25 \n",
      "    0     0     0     0     0     0     0     0     0     0     0     0     0\n",
      "    0     0     0     0     0     0     0     0     0     0     0     0     0\n",
      "    0     0     0     0     0     0     0     0     0     0     0     0     0\n",
      "    0     0     0     0     0     0     0     0     0     0     0     0     0\n",
      "    0     0     0     0     0     0     0     0     0     0     0     0     0\n",
      "    0     0     0     0     0   124   253   255    63     0     0     0     0\n",
      "    0     0     0     0    96   244   251   253    62     0     0     0     0\n",
      "    0     0     0     0   127   251   251   253    62     0     0     0     0\n",
      "    0     0     0    68   236   251   211    31     8     0     0     0     0\n",
      "    0     0    60   228   251   251    94     0     0     0     0     0     0\n",
      "    0     0   155   253   253   189     0     0     0     0     0     0     0\n",
      "    0    20   253   251   235    66     0     0     0     0     0     0     0\n",
      "   32   205   253   251   126     0     0     0     0     0     0     0     0\n",
      "  104   251   253   184    15     0     0     0     0     0     0     0     0\n",
      "  240   251   193    23     0     0     0     0     0     0     0     0     0\n",
      "  253   253   159     0     0     0     0     0     0     0     0     0     0\n",
      "  251   251    39     0     0     0     0     0     0     0     0     0     0\n",
      "  251   172     0     0     0     0     0     0     0     0     0     0     0\n",
      "  196    12     0     0     0     0     0     0     0     0     0     0     0\n",
      "   89     0     0     0     0     0     0     0     0     0     0     0     0\n",
      "   31     0     0     0     0     0     0     0     0     0     0     0     0\n",
      "    8     0     0     0     0     0     0     0     0     0     0     0     0\n",
      "    0     0     0     0     0     0     0     0     0     0     0     0     0\n",
      "    0     0     0     0     0     0     0     0     0     0     0     0     0\n",
      "    0     0     0     0     0     0     0     0     0     0     0     0     0\n",
      "    0     0     0     0     0     0     0     0     0     0     0     0     0\n",
      "    0     0     0     0     0     0     0     0     0     0     0     0     0\n",
      "    0     0     0     0     0     0     0     0     0     0     0     0     0\n",
      "\n",
      "Columns 26 to 27 \n",
      "    0     0\n",
      "    0     0\n",
      "    0     0\n",
      "    0     0\n",
      "    0     0\n",
      "    0     0\n",
      "    0     0\n",
      "    0     0\n",
      "    0     0\n",
      "    0     0\n",
      "    0     0\n",
      "    0     0\n",
      "    0     0\n",
      "    0     0\n",
      "    0     0\n",
      "    0     0\n",
      "    0     0\n",
      "    0     0\n",
      "    0     0\n",
      "    0     0\n",
      "    0     0\n",
      "    0     0\n",
      "    0     0\n",
      "    0     0\n",
      "    0     0\n",
      "    0     0\n",
      "    0     0\n",
      "    0     0\n",
      "[torch.ByteTensor of size 28x28]\n",
      "\n",
      "<torchvision.datasets.mnist.MNIST object at 0x7f9005465a58>\n",
      "torch.Size([10000, 28, 28])\n"
     ]
    }
   ],
   "source": [
    "print(train_data)\n",
    "print(type(train_data.train_data))\n",
    "print(train_data.train_data.shape)  # 该数据集共60000张图片\n",
    "print(train_data.train_data[3])  # 每一张图像的数据是一个28*28的ByteTensor\n",
    "print(test_data)\n",
    "print(test_data.test_data.shape)  # 测试集有10000张图片"
   ]
  },
  {
   "cell_type": "code",
   "execution_count": 4,
   "metadata": {},
   "outputs": [],
   "source": [
    "train_loader=Data.DataLoader(dataset=train_data,batch_size=BATCH_SIZE,shuffle=True,num_workers=2)"
   ]
  },
  {
   "cell_type": "code",
   "execution_count": 5,
   "metadata": {},
   "outputs": [],
   "source": [
    "class CNN(nn.Module):\n",
    "    def __init__(self):\n",
    "        super(CNN,self).__init__()\n",
    "        self.conv1=nn.Sequential(  # input shape (1,28,28)\n",
    "            nn.Conv2d(\n",
    "                in_channels=1,\n",
    "                out_channels=16,\n",
    "                kernel_size=5,  # 卷积核的大小5*5\n",
    "                stride=1,  # 卷积的步长\n",
    "                padding=2,  # 图像四周的填充\n",
    "            ),  # output shape(16,28,28) 卷积层将高度为1的图像卷积成了高度16的图像\n",
    "            nn.ReLU(),  # 激活函数\n",
    "            nn.MaxPool2d(kernel_size=2),  # 池化层,最大法,其池化的核大小为2*2\n",
    "        )  # output变为一16,14,14\n",
    "        self.conv2=nn.Sequential(  # input shape (16,14,14)\n",
    "            nn.Conv2d(16,32,5,1,2),  # 卷积层的参数的简化写法 output(32,14,14)\n",
    "            nn.ReLU(),\n",
    "            nn.MaxPool2d(2) # --->(32,7,7)\n",
    "        )\n",
    "        self.out=nn.Linear(32*7*7,10)  # 全连接层,进行线性分类\n",
    "    \n",
    "    def forward(self,x):\n",
    "        x=self.conv1(x)\n",
    "        x=self.conv2(x)\n",
    "        x=x.view(x.size(0),-1)  #  展平多维的卷积图成 (batch_size, 32 * 7 * 7)\n",
    "        output=self.out(x)\n",
    "        return output"
   ]
  },
  {
   "cell_type": "code",
   "execution_count": 6,
   "metadata": {},
   "outputs": [],
   "source": [
    "cnn=CNN()"
   ]
  },
  {
   "cell_type": "code",
   "execution_count": 7,
   "metadata": {},
   "outputs": [
    {
     "data": {
      "text/plain": [
       "CNN(\n",
       "  (conv1): Sequential(\n",
       "    (0): Conv2d (1, 16, kernel_size=(5, 5), stride=(1, 1), padding=(2, 2))\n",
       "    (1): ReLU()\n",
       "    (2): MaxPool2d(kernel_size=(2, 2), stride=(2, 2), dilation=(1, 1))\n",
       "  )\n",
       "  (conv2): Sequential(\n",
       "    (0): Conv2d (16, 32, kernel_size=(5, 5), stride=(1, 1), padding=(2, 2))\n",
       "    (1): ReLU()\n",
       "    (2): MaxPool2d(kernel_size=(2, 2), stride=(2, 2), dilation=(1, 1))\n",
       "  )\n",
       "  (out): Linear(in_features=1568, out_features=10)\n",
       ")"
      ]
     },
     "execution_count": 7,
     "metadata": {},
     "output_type": "execute_result"
    }
   ],
   "source": [
    "cnn"
   ]
  },
  {
   "cell_type": "code",
   "execution_count": 8,
   "metadata": {},
   "outputs": [],
   "source": [
    "optimizer=torch.optim.Adam(cnn.parameters(),lr=LR)\n",
    "loss_func=nn.CrossEntropyLoss()"
   ]
  },
  {
   "cell_type": "code",
   "execution_count": 9,
   "metadata": {},
   "outputs": [
    {
     "name": "stdout",
     "output_type": "stream",
     "text": [
      "Epoch 0 |train loss:2.2999 |test accuracy: 0.15\n",
      "Epoch 0 |train loss:0.3402 |test accuracy: 0.8255\n",
      "Epoch 0 |train loss:0.3186 |test accuracy: 0.897\n",
      "Epoch 0 |train loss:0.1971 |test accuracy: 0.9235\n",
      "Epoch 0 |train loss:0.1576 |test accuracy: 0.945\n",
      "Epoch 0 |train loss:0.0851 |test accuracy: 0.934\n",
      "Epoch 0 |train loss:0.1416 |test accuracy: 0.959\n",
      "Epoch 0 |train loss:0.0266 |test accuracy: 0.952\n",
      "Epoch 0 |train loss:0.2082 |test accuracy: 0.9595\n",
      "Epoch 0 |train loss:0.0884 |test accuracy: 0.963\n",
      "Epoch 0 |train loss:0.1433 |test accuracy: 0.9655\n",
      "Epoch 0 |train loss:0.1759 |test accuracy: 0.9665\n",
      "Epoch 0 |train loss:0.0510 |test accuracy: 0.9705\n",
      "Epoch 0 |train loss:0.1347 |test accuracy: 0.9685\n",
      "Epoch 0 |train loss:0.0234 |test accuracy: 0.9705\n",
      "Epoch 0 |train loss:0.0492 |test accuracy: 0.9675\n",
      "Epoch 0 |train loss:0.0443 |test accuracy: 0.969\n",
      "Epoch 0 |train loss:0.0629 |test accuracy: 0.9725\n",
      "Epoch 0 |train loss:0.0055 |test accuracy: 0.977\n",
      "Epoch 0 |train loss:0.0231 |test accuracy: 0.978\n",
      "Epoch 0 |train loss:0.0581 |test accuracy: 0.9785\n",
      "Epoch 0 |train loss:0.0171 |test accuracy: 0.9805\n",
      "Epoch 0 |train loss:0.1121 |test accuracy: 0.9755\n",
      "Epoch 0 |train loss:0.0623 |test accuracy: 0.9765\n"
     ]
    }
   ],
   "source": [
    "for epoch in range(EPOCH):\n",
    "    for step,(x,y) in enumerate(train_loader):\n",
    "        b_x=Variable(x)\n",
    "        b_y=Variable(y)\n",
    "        \n",
    "#         print(step)\n",
    "        \n",
    "        output=cnn(b_x)\n",
    "        loss=loss_func(output,b_y)\n",
    "        optimizer.zero_grad()\n",
    "        loss.backward()\n",
    "        optimizer.step()\n",
    "        \n",
    "        \n",
    "        if step%50==0:\n",
    "            test_output=cnn(test_x)\n",
    "            # 得到预测的结果\n",
    "            pred_y=torch.max(test_output,1)[1].data.squeeze()  # max方法得到在dim=1上输入的Tensor的最大值\n",
    "            accuracy=sum(pred_y==test_y)/test_y.size(0)  # sum()这里应该是算出测试结果与答案相等的数量\n",
    "            print('Epoch',epoch,'|train loss:%.4f'%loss.data[0],'|test accuracy:',accuracy)"
   ]
  },
  {
   "cell_type": "code",
   "execution_count": 10,
   "metadata": {},
   "outputs": [
    {
     "name": "stdout",
     "output_type": "stream",
     "text": [
      "[7 2 1 ... 3 9 5] prediction number\n",
      "[7 2 1 ... 3 9 5] real number\n"
     ]
    }
   ],
   "source": [
    "# 利用测试集进行测试\n",
    "test_output=cnn(test_x)\n",
    "pred_y=torch.max(test_output,1)[1].data.numpy().squeeze()\n",
    "print(pred_y,'prediction number')\n",
    "print(test_y.numpy(),'real number')"
   ]
  }
 ],
 "metadata": {
  "kernelspec": {
   "display_name": "Python 3",
   "language": "python",
   "name": "python3"
  },
  "language_info": {
   "codemirror_mode": {
    "name": "ipython",
    "version": 3
   },
   "file_extension": ".py",
   "mimetype": "text/x-python",
   "name": "python",
   "nbconvert_exporter": "python",
   "pygments_lexer": "ipython3",
   "version": "3.5.4rc1"
  }
 },
 "nbformat": 4,
 "nbformat_minor": 2
}
