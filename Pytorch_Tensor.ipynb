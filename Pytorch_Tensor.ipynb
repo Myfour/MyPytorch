{
 "cells": [
  {
   "cell_type": "markdown",
   "metadata": {},
   "source": [
    "# Tensor(张量)\n",
    "- 标量(Scalar)是只有大小没有方向的量;标量相当于一个矩阵中的一个元素,是零维的\n",
    "- 向量(Vector)是有大小和方向的量;向量相当于矩阵的一列或一行,俗称行向量,列向量,是一维的\n",
    "- 矩阵(Matrix)是多个向量排在一起的一堆量;多个向量的组合,是二维的\n",
    "- 张量(Tensor)其实是值任意维度数字的组合,可以说矩阵是一个面,张量就是一个立方体,矩阵是其中一个面;张量可以是任何的维度的\n",
    "- --"
   ]
  },
  {
   "cell_type": "code",
   "execution_count": 1,
   "metadata": {},
   "outputs": [],
   "source": [
    "import torch"
   ]
  },
  {
   "cell_type": "code",
   "execution_count": 2,
   "metadata": {},
   "outputs": [],
   "source": [
    "x=torch.Tensor(3,4)  # 没有初始化这个3*4的矩阵,但其中仍然有值"
   ]
  },
  {
   "cell_type": "code",
   "execution_count": 3,
   "metadata": {},
   "outputs": [
    {
     "data": {
      "text/plain": [
       "\n",
       "(0 ,.,.) = \n",
       "  0.0000e+00  0.0000e+00  1.3476e+32\n",
       "  4.2039e-45  3.2267e+04  4.5722e-41\n",
       "\n",
       "(1 ,.,.) = \n",
       "  8.4078e-45  4.5722e-41  1.5749e+17\n",
       "  1.2612e-44  2.3335e+28  4.5722e-41\n",
       "\n",
       "(2 ,.,.) = \n",
       "  1.6816e-44  4.5722e-41  4.9665e+32\n",
       "  2.1019e-44  4.9666e+32  4.5722e-41\n",
       "\n",
       "(3 ,.,.) = \n",
       "  2.5223e-44  4.5722e-41  4.9666e+32\n",
       "  2.9427e-44  4.9667e+32  4.5722e-41\n",
       "[torch.FloatTensor of size 4x2x3]"
      ]
     },
     "execution_count": 3,
     "metadata": {},
     "output_type": "execute_result"
    }
   ],
   "source": [
    "y=torch.Tensor(4,2,3)  # 构造了一个4*2*3的张量,仍然没有初始化,里面也有值\n",
    "y"
   ]
  },
  {
   "cell_type": "markdown",
   "metadata": {},
   "source": [
    "#### 上面的张量表示4个2*3的矩阵构成"
   ]
  },
  {
   "cell_type": "markdown",
   "metadata": {},
   "source": [
    "#### 构建随机初始化的张量"
   ]
  },
  {
   "cell_type": "code",
   "execution_count": 4,
   "metadata": {},
   "outputs": [
    {
     "data": {
      "text/plain": [
       "\n",
       " 0.6248  0.1905  0.0411  0.7426\n",
       " 0.9412  0.8381  0.7607  0.0780\n",
       " 0.7446  0.9294  0.4533  0.8594\n",
       "[torch.FloatTensor of size 3x4]"
      ]
     },
     "execution_count": 4,
     "metadata": {},
     "output_type": "execute_result"
    }
   ],
   "source": [
    "x=torch.rand(3,4)\n",
    "x"
   ]
  },
  {
   "cell_type": "code",
   "execution_count": 5,
   "metadata": {},
   "outputs": [
    {
     "data": {
      "text/plain": [
       "\n",
       "(0 ,.,.) = \n",
       "  0.1530  0.7118  0.2302\n",
       "  0.2192  0.9852  0.0978\n",
       "\n",
       "(1 ,.,.) = \n",
       "  0.9087  0.2802  0.7886\n",
       "  0.1079  0.9140  0.2991\n",
       "\n",
       "(2 ,.,.) = \n",
       "  0.7756  0.8042  0.8952\n",
       "  0.9353  0.0762  0.7949\n",
       "\n",
       "(3 ,.,.) = \n",
       "  0.7323  0.4031  0.8450\n",
       "  0.4743  0.6642  0.3241\n",
       "[torch.FloatTensor of size 4x2x3]"
      ]
     },
     "execution_count": 5,
     "metadata": {},
     "output_type": "execute_result"
    }
   ],
   "source": [
    "y=torch.rand(4,2,3)\n",
    "y"
   ]
  },
  {
   "cell_type": "markdown",
   "metadata": {},
   "source": [
    "#### 构建全1的初始化的张量"
   ]
  },
  {
   "cell_type": "code",
   "execution_count": 6,
   "metadata": {},
   "outputs": [
    {
     "name": "stdout",
     "output_type": "stream",
     "text": [
      "\n",
      " 1\n",
      " 1\n",
      " 1\n",
      " 1\n",
      " 1\n",
      "[torch.FloatTensor of size 5]\n",
      "\n",
      "\n",
      " 1  1  1\n",
      " 1  1  1\n",
      "[torch.FloatTensor of size 2x3]\n",
      "\n"
     ]
    }
   ],
   "source": [
    "a=torch.ones(5)\n",
    "print(a)\n",
    "a=torch.ones(2,3)\n",
    "print(a)"
   ]
  },
  {
   "cell_type": "markdown",
   "metadata": {},
   "source": [
    "#### numpy的数组使用shape属性可得到维度信息,tensor使用x.size()方法来得到维度信息"
   ]
  },
  {
   "cell_type": "code",
   "execution_count": 7,
   "metadata": {},
   "outputs": [
    {
     "name": "stdout",
     "output_type": "stream",
     "text": [
      "torch.Size([3, 4])\n",
      "torch.Size([4, 2, 3])\n"
     ]
    }
   ],
   "source": [
    "print(x.size())\n",
    "print(y.size())"
   ]
  },
  {
   "cell_type": "markdown",
   "metadata": {},
   "source": [
    "## 对于tensor的数学运算\n",
    "- 不单单限制于加法"
   ]
  },
  {
   "cell_type": "code",
   "execution_count": 8,
   "metadata": {},
   "outputs": [
    {
     "name": "stdout",
     "output_type": "stream",
     "text": [
      "\n",
      " 0.0659  0.2777  0.8814  0.1489  0.0108\n",
      " 0.5029  0.5599  0.4443  0.0429  0.5086\n",
      " 0.1356  0.2575  0.5391  0.0296  0.1309\n",
      " 0.0941  0.5383  0.7847  0.7284  0.5474\n",
      "[torch.FloatTensor of size 4x5]\n",
      "\n",
      "\n",
      " 0.0132  0.1055  0.6988  0.6686  0.2953\n",
      " 0.9486  0.6711  0.0123  0.7753  0.3579\n",
      " 0.4538  0.2485  0.5345  0.4622  0.8066\n",
      " 0.2614  0.7342  0.8567  0.2894  0.7178\n",
      "[torch.FloatTensor of size 4x5]\n",
      "\n"
     ]
    }
   ],
   "source": [
    "# 加法\n",
    "x=torch.rand(4,5)\n",
    "y=torch.rand(4,5)\n",
    "print(x)\n",
    "print(y)"
   ]
  },
  {
   "cell_type": "code",
   "execution_count": 9,
   "metadata": {},
   "outputs": [
    {
     "data": {
      "text/plain": [
       "\n",
       " 0.0791  0.3832  1.5802  0.8175  0.3061\n",
       " 1.4515  1.2310  0.4566  0.8182  0.8665\n",
       " 0.5894  0.5060  1.0736  0.4918  0.9375\n",
       " 0.3556  1.2725  1.6415  1.0178  1.2652\n",
       "[torch.FloatTensor of size 4x5]"
      ]
     },
     "execution_count": 9,
     "metadata": {},
     "output_type": "execute_result"
    }
   ],
   "source": [
    "x+y  # 矩阵加法,每个矩阵的维度要相同,然后对应的元素相加"
   ]
  },
  {
   "cell_type": "code",
   "execution_count": 10,
   "metadata": {},
   "outputs": [
    {
     "data": {
      "text/plain": [
       "\n",
       " 0.0791  0.3832  1.5802  0.8175  0.3061\n",
       " 1.4515  1.2310  0.4566  0.8182  0.8665\n",
       " 0.5894  0.5060  1.0736  0.4918  0.9375\n",
       " 0.3556  1.2725  1.6415  1.0178  1.2652\n",
       "[torch.FloatTensor of size 4x5]"
      ]
     },
     "execution_count": 10,
     "metadata": {},
     "output_type": "execute_result"
    }
   ],
   "source": [
    "torch.add(x,y)  # 效果同上"
   ]
  },
  {
   "cell_type": "code",
   "execution_count": 11,
   "metadata": {},
   "outputs": [
    {
     "data": {
      "text/plain": [
       "\n",
       " 0.0791  0.3832  1.5802  0.8175  0.3061\n",
       " 1.4515  1.2310  0.4566  0.8182  0.8665\n",
       " 0.5894  0.5060  1.0736  0.4918  0.9375\n",
       " 0.3556  1.2725  1.6415  1.0178  1.2652\n",
       "[torch.FloatTensor of size 4x5]"
      ]
     },
     "execution_count": 11,
     "metadata": {},
     "output_type": "execute_result"
    }
   ],
   "source": [
    "result=torch.Tensor(4,5)  # 提供一个输出作为操作\n",
    "torch.add(x,y,out=result)\n",
    "result"
   ]
  },
  {
   "cell_type": "code",
   "execution_count": 12,
   "metadata": {},
   "outputs": [
    {
     "name": "stdout",
     "output_type": "stream",
     "text": [
      "\n",
      " 0.0791  0.3832  1.5802  0.8175  0.3061\n",
      " 1.4515  1.2310  0.4566  0.8182  0.8665\n",
      " 0.5894  0.5060  1.0736  0.4918  0.9375\n",
      " 0.3556  1.2725  1.6415  1.0178  1.2652\n",
      "[torch.FloatTensor of size 4x5]\n",
      "\n",
      "\n",
      " 0.0132  0.1055  0.6988  0.6686  0.2953\n",
      " 0.9486  0.6711  0.0123  0.7753  0.3579\n",
      " 0.4538  0.2485  0.5345  0.4622  0.8066\n",
      " 0.2614  0.7342  0.8567  0.2894  0.7178\n",
      "[torch.FloatTensor of size 4x5]\n",
      "\n"
     ]
    }
   ],
   "source": [
    "x.add_(y)  # 就地操作,前面的变量直接被赋值两个变量的运算结果\n",
    "print(x)\n",
    "print(y)"
   ]
  },
  {
   "cell_type": "markdown",
   "metadata": {},
   "source": [
    "#### 可以使用类似Numpy的索引操作Tensor"
   ]
  },
  {
   "cell_type": "code",
   "execution_count": 13,
   "metadata": {},
   "outputs": [
    {
     "name": "stdout",
     "output_type": "stream",
     "text": [
      "\n",
      " 0.0791  0.3832  1.5802  0.8175  0.3061\n",
      " 1.4515  1.2310  0.4566  0.8182  0.8665\n",
      " 0.5894  0.5060  1.0736  0.4918  0.9375\n",
      " 0.3556  1.2725  1.6415  1.0178  1.2652\n",
      "[torch.FloatTensor of size 4x5]\n",
      "\n",
      "\n",
      " 1.4515\n",
      " 1.2310\n",
      " 0.4566\n",
      " 0.8182\n",
      " 0.8665\n",
      "[torch.FloatTensor of size 5]\n",
      "\n",
      "\n",
      " 0.0791  0.3832  1.5802  0.8175  0.3061\n",
      "[torch.FloatTensor of size 1x5]\n",
      "\n",
      "\n",
      " 1.5802\n",
      " 0.4566\n",
      " 1.0736\n",
      " 1.6415\n",
      "[torch.FloatTensor of size 4]\n",
      "\n",
      "\n",
      " 1.4515  1.2310  0.4566  0.8182  0.8665\n",
      " 0.5894  0.5060  1.0736  0.4918  0.9375\n",
      "[torch.FloatTensor of size 2x5]\n",
      "\n",
      "\n",
      " 0.4566\n",
      " 1.0736\n",
      "[torch.FloatTensor of size 2]\n",
      "\n"
     ]
    }
   ],
   "source": [
    "print(x)\n",
    "print(x[1])  # 注意其得到的是一个向量一维的\n",
    "print(x[:1])  # 这样得到的就是一个二维的矩阵,一个行向量\n",
    "print(x[:,2]) # 得到的是第几列的列向量\n",
    "print(x[1:3])  # 切片是操作是取行\n",
    "print(x[1:3,2])  # 得到索引为1,2的行向量组成的矩阵的索引为2列"
   ]
  },
  {
   "cell_type": "markdown",
   "metadata": {},
   "source": [
    "## 改变Tensor的大小\n"
   ]
  },
  {
   "cell_type": "code",
   "execution_count": 14,
   "metadata": {},
   "outputs": [],
   "source": [
    "# 使用torch.view\n",
    "x=torch.randn(4,4)\n",
    "y=x.view(16)\n",
    "z=x.view(-1,8)  # 参数中-1代表自动填充,根据另一个维度来自动计算这里填充多少"
   ]
  },
  {
   "cell_type": "code",
   "execution_count": 15,
   "metadata": {},
   "outputs": [
    {
     "name": "stdout",
     "output_type": "stream",
     "text": [
      "\n",
      "-0.7003 -0.6439 -0.7151  2.4373\n",
      " 0.4446 -0.2303  1.4013  0.0968\n",
      " 1.1311 -1.3672 -1.1029  1.4991\n",
      " 0.4934 -0.0628  0.0920 -0.6678\n",
      "[torch.FloatTensor of size 4x4]\n",
      "\n",
      "\n",
      "-0.7003\n",
      "-0.6439\n",
      "-0.7151\n",
      " 2.4373\n",
      " 0.4446\n",
      "-0.2303\n",
      " 1.4013\n",
      " 0.0968\n",
      " 1.1311\n",
      "-1.3672\n",
      "-1.1029\n",
      " 1.4991\n",
      " 0.4934\n",
      "-0.0628\n",
      " 0.0920\n",
      "-0.6678\n",
      "[torch.FloatTensor of size 16]\n",
      "\n",
      "\n",
      "-0.7003 -0.6439 -0.7151  2.4373  0.4446 -0.2303  1.4013  0.0968\n",
      " 1.1311 -1.3672 -1.1029  1.4991  0.4934 -0.0628  0.0920 -0.6678\n",
      "[torch.FloatTensor of size 2x8]\n",
      "\n"
     ]
    }
   ],
   "source": [
    "print(x)\n",
    "print(y)\n",
    "print(z)"
   ]
  },
  {
   "cell_type": "markdown",
   "metadata": {},
   "source": [
    "## Tensor------>Numpy"
   ]
  },
  {
   "cell_type": "code",
   "execution_count": 16,
   "metadata": {},
   "outputs": [
    {
     "name": "stdout",
     "output_type": "stream",
     "text": [
      "\n",
      " 1\n",
      " 1\n",
      " 1\n",
      " 1\n",
      " 1\n",
      "[torch.FloatTensor of size 5]\n",
      "\n",
      "[1. 1. 1. 1. 1.]\n",
      "(5,)\n",
      "===========================\n",
      "\n",
      " 1\n",
      " 1\n",
      " 1\n",
      " 1\n",
      " 1\n",
      "[torch.FloatTensor of size 5x1]\n",
      "\n",
      "[[1.]\n",
      " [1.]\n",
      " [1.]\n",
      " [1.]\n",
      " [1.]]\n",
      "(5, 1)\n"
     ]
    }
   ],
   "source": [
    "x=torch.ones(5)\n",
    "print(x)\n",
    "y=x.numpy()\n",
    "print(y)\n",
    "print(y.shape)\n",
    "print('===========================')\n",
    "x=torch.ones(5,1)  # 这里维度的不同对转换为numpy的结果的影响是不同的\n",
    "print(x)\n",
    "y=x.numpy()\n",
    "print(y)\n",
    "print(y.shape)"
   ]
  },
  {
   "cell_type": "code",
   "execution_count": 17,
   "metadata": {},
   "outputs": [
    {
     "name": "stdout",
     "output_type": "stream",
     "text": [
      "\n",
      " 3\n",
      " 3\n",
      " 3\n",
      " 3\n",
      " 3\n",
      "[torch.FloatTensor of size 5]\n",
      "\n",
      "[3. 3. 3. 3. 3.]\n"
     ]
    }
   ],
   "source": [
    "a=torch.ones(5)\n",
    "b=a.numpy()\n",
    "a.add_(2)\n",
    "print(a)\n",
    "print(b)\n",
    "# 证明了torch的tensor与numpy的ndarray共用一个内存空间"
   ]
  },
  {
   "cell_type": "markdown",
   "metadata": {},
   "source": [
    "## Numpy------------->Tensor"
   ]
  },
  {
   "cell_type": "code",
   "execution_count": 18,
   "metadata": {},
   "outputs": [
    {
     "name": "stdout",
     "output_type": "stream",
     "text": [
      "[1. 1. 1. 1. 1.]\n",
      "\n",
      " 1\n",
      " 1\n",
      " 1\n",
      " 1\n",
      " 1\n",
      "[torch.DoubleTensor of size 5]\n",
      "\n",
      "========================\n",
      "[3. 3. 3. 3. 3.]\n",
      "\n",
      " 3\n",
      " 3\n",
      " 3\n",
      " 3\n",
      " 3\n",
      "[torch.DoubleTensor of size 5]\n",
      "\n"
     ]
    }
   ],
   "source": [
    "import numpy as np\n",
    "a=np.ones(5)\n",
    "b=torch.from_numpy(a)\n",
    "print(a)\n",
    "print(b)\n",
    "print('========================')\n",
    "# 这里同样说明Numpy与Tensor共用内存空间\n",
    "np.add(a,2,out=a)\n",
    "print(a)\n",
    "print(b)"
   ]
  }
 ],
 "metadata": {
  "kernelspec": {
   "display_name": "Python 3",
   "language": "python",
   "name": "python3"
  },
  "language_info": {
   "codemirror_mode": {
    "name": "ipython",
    "version": 3
   },
   "file_extension": ".py",
   "mimetype": "text/x-python",
   "name": "python",
   "nbconvert_exporter": "python",
   "pygments_lexer": "ipython3",
   "version": "3.5.4rc1"
  }
 },
 "nbformat": 4,
 "nbformat_minor": 2
}
